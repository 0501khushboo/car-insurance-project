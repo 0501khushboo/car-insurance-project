{
 "cells": [
  {
   "cell_type": "code",
   "execution_count": 1,
   "id": "cd456266",
   "metadata": {},
   "outputs": [],
   "source": [
    "import numpy as np\n",
    "import pandas as pd\n",
    "import matplotlib.pyplot as plt\n",
    "import seaborn as sns \n",
    "%matplotlib inline"
   ]
  },
  {
   "cell_type": "code",
   "execution_count": 2,
   "id": "8b40ee54",
   "metadata": {},
   "outputs": [],
   "source": [
    "df = pd.read_csv(\"data-1-Table 1.csv\")"
   ]
  },
  {
   "cell_type": "code",
   "execution_count": 3,
   "id": "c5b70c5e",
   "metadata": {},
   "outputs": [
    {
     "data": {
      "text/html": [
       "<div>\n",
       "<style scoped>\n",
       "    .dataframe tbody tr th:only-of-type {\n",
       "        vertical-align: middle;\n",
       "    }\n",
       "\n",
       "    .dataframe tbody tr th {\n",
       "        vertical-align: top;\n",
       "    }\n",
       "\n",
       "    .dataframe thead th {\n",
       "        text-align: right;\n",
       "    }\n",
       "</style>\n",
       "<table border=\"1\" class=\"dataframe\">\n",
       "  <thead>\n",
       "    <tr style=\"text-align: right;\">\n",
       "      <th></th>\n",
       "      <th>id</th>\n",
       "      <th>Gender</th>\n",
       "      <th>Age</th>\n",
       "      <th>Driving_License</th>\n",
       "      <th>Region_Code</th>\n",
       "      <th>Previously_Insured</th>\n",
       "      <th>Vehicle_Age</th>\n",
       "      <th>Vehicle_Damage</th>\n",
       "      <th>Annual_Premium</th>\n",
       "      <th>Policy_Sales_Channel</th>\n",
       "      <th>Vintage</th>\n",
       "      <th>Response</th>\n",
       "      <th>Unnamed: 12</th>\n",
       "      <th>Unnamed: 13</th>\n",
       "      <th>Unnamed: 14</th>\n",
       "    </tr>\n",
       "  </thead>\n",
       "  <tbody>\n",
       "    <tr>\n",
       "      <th>0</th>\n",
       "      <td>1</td>\n",
       "      <td>Female</td>\n",
       "      <td>26</td>\n",
       "      <td>1</td>\n",
       "      <td>30</td>\n",
       "      <td>1</td>\n",
       "      <td>&lt; 1 Year</td>\n",
       "      <td>No</td>\n",
       "      <td>31136</td>\n",
       "      <td>152</td>\n",
       "      <td>186</td>\n",
       "      <td>0</td>\n",
       "      <td>NaN</td>\n",
       "      <td>NaN</td>\n",
       "      <td></td>\n",
       "    </tr>\n",
       "    <tr>\n",
       "      <th>1</th>\n",
       "      <td>2</td>\n",
       "      <td>Male</td>\n",
       "      <td>48</td>\n",
       "      <td>1</td>\n",
       "      <td>3</td>\n",
       "      <td>0</td>\n",
       "      <td>1-2 Year</td>\n",
       "      <td>No</td>\n",
       "      <td>38233</td>\n",
       "      <td>124</td>\n",
       "      <td>246</td>\n",
       "      <td>0</td>\n",
       "      <td>NaN</td>\n",
       "      <td>NaN</td>\n",
       "      <td>NaN</td>\n",
       "    </tr>\n",
       "    <tr>\n",
       "      <th>2</th>\n",
       "      <td>3</td>\n",
       "      <td>Male</td>\n",
       "      <td>60</td>\n",
       "      <td>1</td>\n",
       "      <td>28</td>\n",
       "      <td>0</td>\n",
       "      <td>1-2 Year</td>\n",
       "      <td>Yes</td>\n",
       "      <td>66338</td>\n",
       "      <td>124</td>\n",
       "      <td>73</td>\n",
       "      <td>0</td>\n",
       "      <td>NaN</td>\n",
       "      <td>NaN</td>\n",
       "      <td>NaN</td>\n",
       "    </tr>\n",
       "    <tr>\n",
       "      <th>3</th>\n",
       "      <td>4</td>\n",
       "      <td>Male</td>\n",
       "      <td>59</td>\n",
       "      <td>1</td>\n",
       "      <td>23</td>\n",
       "      <td>0</td>\n",
       "      <td>1-2 Year</td>\n",
       "      <td>No</td>\n",
       "      <td>27865</td>\n",
       "      <td>124</td>\n",
       "      <td>39</td>\n",
       "      <td>0</td>\n",
       "      <td>NaN</td>\n",
       "      <td>NaN</td>\n",
       "      <td>NaN</td>\n",
       "    </tr>\n",
       "    <tr>\n",
       "      <th>4</th>\n",
       "      <td>5</td>\n",
       "      <td>Female</td>\n",
       "      <td>59</td>\n",
       "      <td>1</td>\n",
       "      <td>26</td>\n",
       "      <td>1</td>\n",
       "      <td>1-2 Year</td>\n",
       "      <td>No</td>\n",
       "      <td>35649</td>\n",
       "      <td>122</td>\n",
       "      <td>136</td>\n",
       "      <td>0</td>\n",
       "      <td>NaN</td>\n",
       "      <td>NaN</td>\n",
       "      <td>NaN</td>\n",
       "    </tr>\n",
       "  </tbody>\n",
       "</table>\n",
       "</div>"
      ],
      "text/plain": [
       "   id  Gender  Age  Driving_License  Region_Code  Previously_Insured  \\\n",
       "0   1  Female   26                1           30                   1   \n",
       "1   2    Male   48                1            3                   0   \n",
       "2   3    Male   60                1           28                   0   \n",
       "3   4    Male   59                1           23                   0   \n",
       "4   5  Female   59                1           26                   1   \n",
       "\n",
       "  Vehicle_Age Vehicle_Damage  Annual_Premium  Policy_Sales_Channel  Vintage  \\\n",
       "0    < 1 Year             No           31136                   152      186   \n",
       "1    1-2 Year             No           38233                   124      246   \n",
       "2    1-2 Year            Yes           66338                   124       73   \n",
       "3    1-2 Year             No           27865                   124       39   \n",
       "4    1-2 Year             No           35649                   122      136   \n",
       "\n",
       "   Response  Unnamed: 12  Unnamed: 13 Unnamed: 14  \n",
       "0         0          NaN          NaN              \n",
       "1         0          NaN          NaN         NaN  \n",
       "2         0          NaN          NaN         NaN  \n",
       "3         0          NaN          NaN         NaN  \n",
       "4         0          NaN          NaN         NaN  "
      ]
     },
     "execution_count": 3,
     "metadata": {},
     "output_type": "execute_result"
    }
   ],
   "source": [
    "df.head()"
   ]
  },
  {
   "cell_type": "code",
   "execution_count": 4,
   "id": "966657d6",
   "metadata": {},
   "outputs": [
    {
     "name": "stdout",
     "output_type": "stream",
     "text": [
      "<class 'pandas.core.frame.DataFrame'>\n",
      "RangeIndex: 22762 entries, 0 to 22761\n",
      "Data columns (total 15 columns):\n",
      " #   Column                Non-Null Count  Dtype  \n",
      "---  ------                --------------  -----  \n",
      " 0   id                    22762 non-null  int64  \n",
      " 1   Gender                22762 non-null  object \n",
      " 2   Age                   22762 non-null  int64  \n",
      " 3   Driving_License       22762 non-null  int64  \n",
      " 4   Region_Code           22762 non-null  int64  \n",
      " 5   Previously_Insured    22762 non-null  int64  \n",
      " 6   Vehicle_Age           22762 non-null  object \n",
      " 7   Vehicle_Damage        22762 non-null  object \n",
      " 8   Annual_Premium        22762 non-null  int64  \n",
      " 9   Policy_Sales_Channel  22762 non-null  int64  \n",
      " 10  Vintage               22762 non-null  int64  \n",
      " 11  Response              22762 non-null  int64  \n",
      " 12  Unnamed: 12           0 non-null      float64\n",
      " 13  Unnamed: 13           0 non-null      float64\n",
      " 14  Unnamed: 14           1 non-null      object \n",
      "dtypes: float64(2), int64(9), object(4)\n",
      "memory usage: 2.6+ MB\n"
     ]
    }
   ],
   "source": [
    "df.info()"
   ]
  },
  {
   "cell_type": "code",
   "execution_count": 5,
   "id": "192052c1",
   "metadata": {},
   "outputs": [
    {
     "data": {
      "text/plain": [
       "0   NaN\n",
       "1   NaN\n",
       "2   NaN\n",
       "3   NaN\n",
       "4   NaN\n",
       "Name: Unnamed: 12, dtype: float64"
      ]
     },
     "execution_count": 5,
     "metadata": {},
     "output_type": "execute_result"
    }
   ],
   "source": [
    "df[\"Unnamed: 12\"].head()"
   ]
  },
  {
   "cell_type": "code",
   "execution_count": 6,
   "id": "c0554236",
   "metadata": {},
   "outputs": [
    {
     "data": {
      "text/plain": [
       "id                          0\n",
       "Gender                      0\n",
       "Age                         0\n",
       "Driving_License             0\n",
       "Region_Code                 0\n",
       "Previously_Insured          0\n",
       "Vehicle_Age                 0\n",
       "Vehicle_Damage              0\n",
       "Annual_Premium              0\n",
       "Policy_Sales_Channel        0\n",
       "Vintage                     0\n",
       "Response                    0\n",
       "Unnamed: 12             22762\n",
       "Unnamed: 13             22762\n",
       "Unnamed: 14             22761\n",
       "dtype: int64"
      ]
     },
     "execution_count": 6,
     "metadata": {},
     "output_type": "execute_result"
    }
   ],
   "source": [
    "#since unnamed has majority of its values missing(close to 100) we will drop this dataset\n",
    "df.isnull().sum()"
   ]
  },
  {
   "cell_type": "code",
   "execution_count": 7,
   "id": "130249c8",
   "metadata": {},
   "outputs": [],
   "source": [
    "df.dropna(axis = 1, thresh = 22000, inplace = True)"
   ]
  },
  {
   "cell_type": "code",
   "execution_count": 8,
   "id": "8f277d57",
   "metadata": {},
   "outputs": [
    {
     "name": "stdout",
     "output_type": "stream",
     "text": [
      "<class 'pandas.core.frame.DataFrame'>\n",
      "RangeIndex: 22762 entries, 0 to 22761\n",
      "Data columns (total 12 columns):\n",
      " #   Column                Non-Null Count  Dtype \n",
      "---  ------                --------------  ----- \n",
      " 0   id                    22762 non-null  int64 \n",
      " 1   Gender                22762 non-null  object\n",
      " 2   Age                   22762 non-null  int64 \n",
      " 3   Driving_License       22762 non-null  int64 \n",
      " 4   Region_Code           22762 non-null  int64 \n",
      " 5   Previously_Insured    22762 non-null  int64 \n",
      " 6   Vehicle_Age           22762 non-null  object\n",
      " 7   Vehicle_Damage        22762 non-null  object\n",
      " 8   Annual_Premium        22762 non-null  int64 \n",
      " 9   Policy_Sales_Channel  22762 non-null  int64 \n",
      " 10  Vintage               22762 non-null  int64 \n",
      " 11  Response              22762 non-null  int64 \n",
      "dtypes: int64(9), object(3)\n",
      "memory usage: 2.1+ MB\n"
     ]
    }
   ],
   "source": [
    "df.info()"
   ]
  },
  {
   "cell_type": "code",
   "execution_count": 9,
   "id": "1713d1c1",
   "metadata": {},
   "outputs": [
    {
     "data": {
      "text/plain": [
       "id                      0\n",
       "Gender                  0\n",
       "Age                     0\n",
       "Driving_License         0\n",
       "Region_Code             0\n",
       "Previously_Insured      0\n",
       "Vehicle_Age             0\n",
       "Vehicle_Damage          0\n",
       "Annual_Premium          0\n",
       "Policy_Sales_Channel    0\n",
       "Vintage                 0\n",
       "Response                0\n",
       "dtype: int64"
      ]
     },
     "execution_count": 9,
     "metadata": {},
     "output_type": "execute_result"
    }
   ],
   "source": [
    "df.isnull().sum()"
   ]
  },
  {
   "cell_type": "code",
   "execution_count": 10,
   "id": "645019d3",
   "metadata": {},
   "outputs": [
    {
     "data": {
      "text/plain": [
       "0         No\n",
       "1         No\n",
       "2        Yes\n",
       "3         No\n",
       "4         No\n",
       "        ... \n",
       "22757    Yes\n",
       "22758    Yes\n",
       "22759     No\n",
       "22760    Yes\n",
       "22761     No\n",
       "Name: Vehicle_Damage, Length: 22762, dtype: object"
      ]
     },
     "execution_count": 10,
     "metadata": {},
     "output_type": "execute_result"
    }
   ],
   "source": [
    "#converting object data to numerical datatype\n",
    "#1st we'll do Vehicle_Damage \n",
    "df[\"Vehicle_Damage\"]"
   ]
  },
  {
   "cell_type": "code",
   "execution_count": 11,
   "id": "4092862d",
   "metadata": {},
   "outputs": [],
   "source": [
    "from sklearn.preprocessing import OrdinalEncoder"
   ]
  },
  {
   "cell_type": "code",
   "execution_count": 12,
   "id": "7e175207",
   "metadata": {},
   "outputs": [],
   "source": [
    "ordinal_encoder = OrdinalEncoder()"
   ]
  },
  {
   "cell_type": "code",
   "execution_count": 13,
   "id": "ad53397f",
   "metadata": {},
   "outputs": [],
   "source": [
    "df[\"Vehicle_Damage\"] = ordinal_encoder.fit_transform(df[[\"Vehicle_Damage\"]])"
   ]
  },
  {
   "cell_type": "code",
   "execution_count": 14,
   "id": "124ee771",
   "metadata": {},
   "outputs": [
    {
     "data": {
      "text/plain": [
       "[array(['No', 'Yes'], dtype=object)]"
      ]
     },
     "execution_count": 14,
     "metadata": {},
     "output_type": "execute_result"
    }
   ],
   "source": [
    "ordinal_encoder.categories_"
   ]
  },
  {
   "cell_type": "code",
   "execution_count": 15,
   "id": "39f81ef9",
   "metadata": {},
   "outputs": [],
   "source": [
    "#convert Vehicle_Age to numeric data type\n",
    "df[\"Vehicle_Age\"] = ordinal_encoder.fit_transform(df[[\"Vehicle_Age\"]])"
   ]
  },
  {
   "cell_type": "code",
   "execution_count": 16,
   "id": "e653ef13",
   "metadata": {},
   "outputs": [
    {
     "data": {
      "text/plain": [
       "[array(['1-2 Year', '< 1 Year', '> 2 Years'], dtype=object)]"
      ]
     },
     "execution_count": 16,
     "metadata": {},
     "output_type": "execute_result"
    }
   ],
   "source": [
    "ordinal_encoder.categories_"
   ]
  },
  {
   "cell_type": "code",
   "execution_count": 17,
   "id": "a74ccaf5",
   "metadata": {},
   "outputs": [],
   "source": [
    "df[\"Gender\"] = ordinal_encoder.fit_transform(df[[\"Gender\"]])"
   ]
  },
  {
   "cell_type": "markdown",
   "id": "ef54f148",
   "metadata": {},
   "source": [
    "##EXPLORATORY DATA ANALYSIS"
   ]
  },
  {
   "cell_type": "code",
   "execution_count": 18,
   "id": "f7c07c7a",
   "metadata": {},
   "outputs": [],
   "source": [
    "##TARGET VARIABLE = RESPONSE VARIABLE "
   ]
  },
  {
   "cell_type": "code",
   "execution_count": 19,
   "id": "d726c40a",
   "metadata": {},
   "outputs": [
    {
     "data": {
      "text/html": [
       "<div>\n",
       "<style scoped>\n",
       "    .dataframe tbody tr th:only-of-type {\n",
       "        vertical-align: middle;\n",
       "    }\n",
       "\n",
       "    .dataframe tbody tr th {\n",
       "        vertical-align: top;\n",
       "    }\n",
       "\n",
       "    .dataframe thead th {\n",
       "        text-align: right;\n",
       "    }\n",
       "</style>\n",
       "<table border=\"1\" class=\"dataframe\">\n",
       "  <thead>\n",
       "    <tr style=\"text-align: right;\">\n",
       "      <th></th>\n",
       "      <th>id</th>\n",
       "      <th>Gender</th>\n",
       "      <th>Age</th>\n",
       "      <th>Driving_License</th>\n",
       "      <th>Region_Code</th>\n",
       "      <th>Previously_Insured</th>\n",
       "      <th>Vehicle_Age</th>\n",
       "      <th>Vehicle_Damage</th>\n",
       "      <th>Annual_Premium</th>\n",
       "      <th>Policy_Sales_Channel</th>\n",
       "      <th>Vintage</th>\n",
       "      <th>Response</th>\n",
       "    </tr>\n",
       "  </thead>\n",
       "  <tbody>\n",
       "    <tr>\n",
       "      <th>0</th>\n",
       "      <td>1</td>\n",
       "      <td>0.0</td>\n",
       "      <td>26</td>\n",
       "      <td>1</td>\n",
       "      <td>30</td>\n",
       "      <td>1</td>\n",
       "      <td>1.0</td>\n",
       "      <td>0.0</td>\n",
       "      <td>31136</td>\n",
       "      <td>152</td>\n",
       "      <td>186</td>\n",
       "      <td>0</td>\n",
       "    </tr>\n",
       "    <tr>\n",
       "      <th>1</th>\n",
       "      <td>2</td>\n",
       "      <td>1.0</td>\n",
       "      <td>48</td>\n",
       "      <td>1</td>\n",
       "      <td>3</td>\n",
       "      <td>0</td>\n",
       "      <td>0.0</td>\n",
       "      <td>0.0</td>\n",
       "      <td>38233</td>\n",
       "      <td>124</td>\n",
       "      <td>246</td>\n",
       "      <td>0</td>\n",
       "    </tr>\n",
       "    <tr>\n",
       "      <th>2</th>\n",
       "      <td>3</td>\n",
       "      <td>1.0</td>\n",
       "      <td>60</td>\n",
       "      <td>1</td>\n",
       "      <td>28</td>\n",
       "      <td>0</td>\n",
       "      <td>0.0</td>\n",
       "      <td>1.0</td>\n",
       "      <td>66338</td>\n",
       "      <td>124</td>\n",
       "      <td>73</td>\n",
       "      <td>0</td>\n",
       "    </tr>\n",
       "    <tr>\n",
       "      <th>3</th>\n",
       "      <td>4</td>\n",
       "      <td>1.0</td>\n",
       "      <td>59</td>\n",
       "      <td>1</td>\n",
       "      <td>23</td>\n",
       "      <td>0</td>\n",
       "      <td>0.0</td>\n",
       "      <td>0.0</td>\n",
       "      <td>27865</td>\n",
       "      <td>124</td>\n",
       "      <td>39</td>\n",
       "      <td>0</td>\n",
       "    </tr>\n",
       "    <tr>\n",
       "      <th>4</th>\n",
       "      <td>5</td>\n",
       "      <td>0.0</td>\n",
       "      <td>59</td>\n",
       "      <td>1</td>\n",
       "      <td>26</td>\n",
       "      <td>1</td>\n",
       "      <td>0.0</td>\n",
       "      <td>0.0</td>\n",
       "      <td>35649</td>\n",
       "      <td>122</td>\n",
       "      <td>136</td>\n",
       "      <td>0</td>\n",
       "    </tr>\n",
       "  </tbody>\n",
       "</table>\n",
       "</div>"
      ],
      "text/plain": [
       "   id  Gender  Age  Driving_License  Region_Code  Previously_Insured  \\\n",
       "0   1     0.0   26                1           30                   1   \n",
       "1   2     1.0   48                1            3                   0   \n",
       "2   3     1.0   60                1           28                   0   \n",
       "3   4     1.0   59                1           23                   0   \n",
       "4   5     0.0   59                1           26                   1   \n",
       "\n",
       "   Vehicle_Age  Vehicle_Damage  Annual_Premium  Policy_Sales_Channel  Vintage  \\\n",
       "0          1.0             0.0           31136                   152      186   \n",
       "1          0.0             0.0           38233                   124      246   \n",
       "2          0.0             1.0           66338                   124       73   \n",
       "3          0.0             0.0           27865                   124       39   \n",
       "4          0.0             0.0           35649                   122      136   \n",
       "\n",
       "   Response  \n",
       "0         0  \n",
       "1         0  \n",
       "2         0  \n",
       "3         0  \n",
       "4         0  "
      ]
     },
     "execution_count": 19,
     "metadata": {},
     "output_type": "execute_result"
    }
   ],
   "source": [
    "df.head()"
   ]
  },
  {
   "cell_type": "code",
   "execution_count": 20,
   "id": "062b5ca2",
   "metadata": {},
   "outputs": [
    {
     "data": {
      "text/html": [
       "<div>\n",
       "<style scoped>\n",
       "    .dataframe tbody tr th:only-of-type {\n",
       "        vertical-align: middle;\n",
       "    }\n",
       "\n",
       "    .dataframe tbody tr th {\n",
       "        vertical-align: top;\n",
       "    }\n",
       "\n",
       "    .dataframe thead th {\n",
       "        text-align: right;\n",
       "    }\n",
       "</style>\n",
       "<table border=\"1\" class=\"dataframe\">\n",
       "  <thead>\n",
       "    <tr style=\"text-align: right;\">\n",
       "      <th></th>\n",
       "      <th>id</th>\n",
       "      <th>Gender</th>\n",
       "      <th>Age</th>\n",
       "      <th>Driving_License</th>\n",
       "      <th>Region_Code</th>\n",
       "      <th>Previously_Insured</th>\n",
       "      <th>Vehicle_Age</th>\n",
       "      <th>Vehicle_Damage</th>\n",
       "      <th>Annual_Premium</th>\n",
       "      <th>Policy_Sales_Channel</th>\n",
       "      <th>Vintage</th>\n",
       "      <th>Response</th>\n",
       "    </tr>\n",
       "  </thead>\n",
       "  <tbody>\n",
       "    <tr>\n",
       "      <th>id</th>\n",
       "      <td>1.000000</td>\n",
       "      <td>0.006330</td>\n",
       "      <td>-0.005019</td>\n",
       "      <td>0.002736</td>\n",
       "      <td>0.006283</td>\n",
       "      <td>0.014393</td>\n",
       "      <td>0.002426</td>\n",
       "      <td>-0.006569</td>\n",
       "      <td>0.004476</td>\n",
       "      <td>0.003961</td>\n",
       "      <td>0.014867</td>\n",
       "      <td>-0.007575</td>\n",
       "    </tr>\n",
       "    <tr>\n",
       "      <th>Gender</th>\n",
       "      <td>0.006330</td>\n",
       "      <td>1.000000</td>\n",
       "      <td>0.148330</td>\n",
       "      <td>-0.024792</td>\n",
       "      <td>0.006031</td>\n",
       "      <td>-0.085564</td>\n",
       "      <td>-0.115590</td>\n",
       "      <td>0.095983</td>\n",
       "      <td>0.002259</td>\n",
       "      <td>-0.119139</td>\n",
       "      <td>-0.015021</td>\n",
       "      <td>0.041462</td>\n",
       "    </tr>\n",
       "    <tr>\n",
       "      <th>Age</th>\n",
       "      <td>-0.005019</td>\n",
       "      <td>0.148330</td>\n",
       "      <td>1.000000</td>\n",
       "      <td>-0.077177</td>\n",
       "      <td>0.045044</td>\n",
       "      <td>-0.263077</td>\n",
       "      <td>-0.523161</td>\n",
       "      <td>0.261192</td>\n",
       "      <td>0.059555</td>\n",
       "      <td>-0.576533</td>\n",
       "      <td>-0.001189</td>\n",
       "      <td>0.105917</td>\n",
       "    </tr>\n",
       "    <tr>\n",
       "      <th>Driving_License</th>\n",
       "      <td>0.002736</td>\n",
       "      <td>-0.024792</td>\n",
       "      <td>-0.077177</td>\n",
       "      <td>1.000000</td>\n",
       "      <td>0.001616</td>\n",
       "      <td>0.017428</td>\n",
       "      <td>0.039689</td>\n",
       "      <td>-0.024534</td>\n",
       "      <td>-0.020360</td>\n",
       "      <td>0.045944</td>\n",
       "      <td>-0.004399</td>\n",
       "      <td>0.008058</td>\n",
       "    </tr>\n",
       "    <tr>\n",
       "      <th>Region_Code</th>\n",
       "      <td>0.006283</td>\n",
       "      <td>0.006031</td>\n",
       "      <td>0.045044</td>\n",
       "      <td>0.001616</td>\n",
       "      <td>1.000000</td>\n",
       "      <td>-0.016520</td>\n",
       "      <td>-0.032569</td>\n",
       "      <td>0.020037</td>\n",
       "      <td>-0.012095</td>\n",
       "      <td>-0.042666</td>\n",
       "      <td>-0.001614</td>\n",
       "      <td>0.007137</td>\n",
       "    </tr>\n",
       "    <tr>\n",
       "      <th>Previously_Insured</th>\n",
       "      <td>0.014393</td>\n",
       "      <td>-0.085564</td>\n",
       "      <td>-0.263077</td>\n",
       "      <td>0.017428</td>\n",
       "      <td>-0.016520</td>\n",
       "      <td>1.000000</td>\n",
       "      <td>0.177217</td>\n",
       "      <td>-0.825254</td>\n",
       "      <td>0.005702</td>\n",
       "      <td>0.224512</td>\n",
       "      <td>0.002178</td>\n",
       "      <td>-0.335676</td>\n",
       "    </tr>\n",
       "    <tr>\n",
       "      <th>Vehicle_Age</th>\n",
       "      <td>0.002426</td>\n",
       "      <td>-0.115590</td>\n",
       "      <td>-0.523161</td>\n",
       "      <td>0.039689</td>\n",
       "      <td>-0.032569</td>\n",
       "      <td>0.177217</td>\n",
       "      <td>1.000000</td>\n",
       "      <td>-0.164823</td>\n",
       "      <td>0.032399</td>\n",
       "      <td>0.389027</td>\n",
       "      <td>0.016918</td>\n",
       "      <td>-0.100417</td>\n",
       "    </tr>\n",
       "    <tr>\n",
       "      <th>Vehicle_Damage</th>\n",
       "      <td>-0.006569</td>\n",
       "      <td>0.095983</td>\n",
       "      <td>0.261192</td>\n",
       "      <td>-0.024534</td>\n",
       "      <td>0.020037</td>\n",
       "      <td>-0.825254</td>\n",
       "      <td>-0.164823</td>\n",
       "      <td>1.000000</td>\n",
       "      <td>0.007062</td>\n",
       "      <td>-0.217216</td>\n",
       "      <td>-0.004224</td>\n",
       "      <td>0.348514</td>\n",
       "    </tr>\n",
       "    <tr>\n",
       "      <th>Annual_Premium</th>\n",
       "      <td>0.004476</td>\n",
       "      <td>0.002259</td>\n",
       "      <td>0.059555</td>\n",
       "      <td>-0.020360</td>\n",
       "      <td>-0.012095</td>\n",
       "      <td>0.005702</td>\n",
       "      <td>0.032399</td>\n",
       "      <td>0.007062</td>\n",
       "      <td>1.000000</td>\n",
       "      <td>-0.119257</td>\n",
       "      <td>-0.003876</td>\n",
       "      <td>0.021119</td>\n",
       "    </tr>\n",
       "    <tr>\n",
       "      <th>Policy_Sales_Channel</th>\n",
       "      <td>0.003961</td>\n",
       "      <td>-0.119139</td>\n",
       "      <td>-0.576533</td>\n",
       "      <td>0.045944</td>\n",
       "      <td>-0.042666</td>\n",
       "      <td>0.224512</td>\n",
       "      <td>0.389027</td>\n",
       "      <td>-0.217216</td>\n",
       "      <td>-0.119257</td>\n",
       "      <td>1.000000</td>\n",
       "      <td>0.011207</td>\n",
       "      <td>-0.139984</td>\n",
       "    </tr>\n",
       "    <tr>\n",
       "      <th>Vintage</th>\n",
       "      <td>0.014867</td>\n",
       "      <td>-0.015021</td>\n",
       "      <td>-0.001189</td>\n",
       "      <td>-0.004399</td>\n",
       "      <td>-0.001614</td>\n",
       "      <td>0.002178</td>\n",
       "      <td>0.016918</td>\n",
       "      <td>-0.004224</td>\n",
       "      <td>-0.003876</td>\n",
       "      <td>0.011207</td>\n",
       "      <td>1.000000</td>\n",
       "      <td>-0.003662</td>\n",
       "    </tr>\n",
       "    <tr>\n",
       "      <th>Response</th>\n",
       "      <td>-0.007575</td>\n",
       "      <td>0.041462</td>\n",
       "      <td>0.105917</td>\n",
       "      <td>0.008058</td>\n",
       "      <td>0.007137</td>\n",
       "      <td>-0.335676</td>\n",
       "      <td>-0.100417</td>\n",
       "      <td>0.348514</td>\n",
       "      <td>0.021119</td>\n",
       "      <td>-0.139984</td>\n",
       "      <td>-0.003662</td>\n",
       "      <td>1.000000</td>\n",
       "    </tr>\n",
       "  </tbody>\n",
       "</table>\n",
       "</div>"
      ],
      "text/plain": [
       "                            id    Gender       Age  Driving_License  \\\n",
       "id                    1.000000  0.006330 -0.005019         0.002736   \n",
       "Gender                0.006330  1.000000  0.148330        -0.024792   \n",
       "Age                  -0.005019  0.148330  1.000000        -0.077177   \n",
       "Driving_License       0.002736 -0.024792 -0.077177         1.000000   \n",
       "Region_Code           0.006283  0.006031  0.045044         0.001616   \n",
       "Previously_Insured    0.014393 -0.085564 -0.263077         0.017428   \n",
       "Vehicle_Age           0.002426 -0.115590 -0.523161         0.039689   \n",
       "Vehicle_Damage       -0.006569  0.095983  0.261192        -0.024534   \n",
       "Annual_Premium        0.004476  0.002259  0.059555        -0.020360   \n",
       "Policy_Sales_Channel  0.003961 -0.119139 -0.576533         0.045944   \n",
       "Vintage               0.014867 -0.015021 -0.001189        -0.004399   \n",
       "Response             -0.007575  0.041462  0.105917         0.008058   \n",
       "\n",
       "                      Region_Code  Previously_Insured  Vehicle_Age  \\\n",
       "id                       0.006283            0.014393     0.002426   \n",
       "Gender                   0.006031           -0.085564    -0.115590   \n",
       "Age                      0.045044           -0.263077    -0.523161   \n",
       "Driving_License          0.001616            0.017428     0.039689   \n",
       "Region_Code              1.000000           -0.016520    -0.032569   \n",
       "Previously_Insured      -0.016520            1.000000     0.177217   \n",
       "Vehicle_Age             -0.032569            0.177217     1.000000   \n",
       "Vehicle_Damage           0.020037           -0.825254    -0.164823   \n",
       "Annual_Premium          -0.012095            0.005702     0.032399   \n",
       "Policy_Sales_Channel    -0.042666            0.224512     0.389027   \n",
       "Vintage                 -0.001614            0.002178     0.016918   \n",
       "Response                 0.007137           -0.335676    -0.100417   \n",
       "\n",
       "                      Vehicle_Damage  Annual_Premium  Policy_Sales_Channel  \\\n",
       "id                         -0.006569        0.004476              0.003961   \n",
       "Gender                      0.095983        0.002259             -0.119139   \n",
       "Age                         0.261192        0.059555             -0.576533   \n",
       "Driving_License            -0.024534       -0.020360              0.045944   \n",
       "Region_Code                 0.020037       -0.012095             -0.042666   \n",
       "Previously_Insured         -0.825254        0.005702              0.224512   \n",
       "Vehicle_Age                -0.164823        0.032399              0.389027   \n",
       "Vehicle_Damage              1.000000        0.007062             -0.217216   \n",
       "Annual_Premium              0.007062        1.000000             -0.119257   \n",
       "Policy_Sales_Channel       -0.217216       -0.119257              1.000000   \n",
       "Vintage                    -0.004224       -0.003876              0.011207   \n",
       "Response                    0.348514        0.021119             -0.139984   \n",
       "\n",
       "                       Vintage  Response  \n",
       "id                    0.014867 -0.007575  \n",
       "Gender               -0.015021  0.041462  \n",
       "Age                  -0.001189  0.105917  \n",
       "Driving_License      -0.004399  0.008058  \n",
       "Region_Code          -0.001614  0.007137  \n",
       "Previously_Insured    0.002178 -0.335676  \n",
       "Vehicle_Age           0.016918 -0.100417  \n",
       "Vehicle_Damage       -0.004224  0.348514  \n",
       "Annual_Premium       -0.003876  0.021119  \n",
       "Policy_Sales_Channel  0.011207 -0.139984  \n",
       "Vintage               1.000000 -0.003662  \n",
       "Response             -0.003662  1.000000  "
      ]
     },
     "execution_count": 20,
     "metadata": {},
     "output_type": "execute_result"
    }
   ],
   "source": [
    "df.corr()"
   ]
  },
  {
   "cell_type": "code",
   "execution_count": 21,
   "id": "f8a65c99",
   "metadata": {},
   "outputs": [
    {
     "data": {
      "text/plain": [
       "<AxesSubplot:>"
      ]
     },
     "execution_count": 21,
     "metadata": {},
     "output_type": "execute_result"
    },
    {
     "data": {
      "image/png": "[encoded data removed]",
      "text/plain": [
       "<Figure size 432x288 with 2 Axes>"
      ]
     },
     "metadata": {
      "needs_background": "light"
     },
     "output_type": "display_data"
    }
   ],
   "source": [
    "sns.heatmap(df, cmap = \"crest\")"
   ]
  },
  {
   "cell_type": "code",
   "execution_count": 22,
   "id": "cd10ea80",
   "metadata": {
    "scrolled": true
   },
   "outputs": [
    {
     "data": {
      "text/plain": [
       "<seaborn.axisgrid.FacetGrid at 0x7f8442a430d0>"
      ]
     },
     "execution_count": 22,
     "metadata": {},
     "output_type": "execute_result"
    },
    {
     "data": {
      "image/png": "[encoded data removed]",
      "text/plain": [
       "<Figure size 415.75x360 with 1 Axes>"
      ]
     },
     "metadata": {
      "needs_background": "light"
     },
     "output_type": "display_data"
    }
   ],
   "source": [
    "#we can see that annual premium has some corealation so we will plo the graph out \n",
    "sns.displot(data=df, x=\"Annual_Premium\", hue=\"Response\", kind=\"kde\")"
   ]
  },
  {
   "cell_type": "code",
   "execution_count": 23,
   "id": "68757fdb",
   "metadata": {},
   "outputs": [
    {
     "data": {
      "text/plain": [
       "<AxesSubplot:xlabel='Vehicle_Damage', ylabel='count'>"
      ]
     },
     "execution_count": 23,
     "metadata": {},
     "output_type": "execute_result"
    },
    {
     "data": {
      "image/png": "[encoded data removed]",
      "text/plain": [
       "<Figure size 432x288 with 1 Axes>"
      ]
     },
     "metadata": {
      "needs_background": "light"
     },
     "output_type": "display_data"
    }
   ],
   "source": [
    "sns.countplot(data = df, x = \"Vehicle_Damage\", hue = \"Response\", palette = \"crest\" )"
   ]
  },
  {
   "cell_type": "code",
   "execution_count": 24,
   "id": "bcd7ac5a",
   "metadata": {},
   "outputs": [],
   "source": [
    "from sklearn.model_selection import StratifiedShuffleSplit"
   ]
  },
  {
   "cell_type": "code",
   "execution_count": 25,
   "id": "4da609c4",
   "metadata": {},
   "outputs": [],
   "source": [
    "from sklearn.model_selection import train_test_split"
   ]
  },
  {
   "cell_type": "code",
   "execution_count": 26,
   "id": "c2ab041b",
   "metadata": {},
   "outputs": [
    {
     "data": {
      "text/plain": [
       "Index(['id', 'Gender', 'Age', 'Driving_License', 'Region_Code',\n",
       "       'Previously_Insured', 'Vehicle_Age', 'Vehicle_Damage', 'Annual_Premium',\n",
       "       'Policy_Sales_Channel', 'Vintage', 'Response'],\n",
       "      dtype='object')"
      ]
     },
     "execution_count": 26,
     "metadata": {},
     "output_type": "execute_result"
    }
   ],
   "source": [
    "df.columns"
   ]
  },
  {
   "cell_type": "code",
   "execution_count": 27,
   "id": "a2c0a2c5",
   "metadata": {},
   "outputs": [],
   "source": [
    "X = df[['Gender', 'Age', 'Driving_License', 'Region_Code',\n",
    "       'Previously_Insured', 'Vehicle_Age', 'Vehicle_Damage', 'Annual_Premium',\n",
    "       'Policy_Sales_Channel', 'Vintage']]\n",
    "y = df['Response']"
   ]
  },
  {
   "cell_type": "code",
   "execution_count": 28,
   "id": "a819520b",
   "metadata": {},
   "outputs": [],
   "source": [
    "X_train, X_test, y_train, y_test = train_test_split(X, y, test_size=0.33, random_state=42)"
   ]
  },
  {
   "cell_type": "code",
   "execution_count": 68,
   "id": "2b913ee4",
   "metadata": {},
   "outputs": [],
   "source": [
    "split = StratifiedShuffleSplit(n_splits=1, test_size=0.33, random_state=42) \n",
    "for X_train, X_test in split.split(df, df[\"Vehicle_Damage\"]):\n",
    "        strat_train_set_X = df.loc[X_train]\n",
    "        strat_test_set_X = df.loc[X_test]\n",
    "     "
   ]
  },
  {
   "cell_type": "code",
   "execution_count": 94,
   "id": "a467a5b7",
   "metadata": {},
   "outputs": [],
   "source": [
    "split = StratifiedShuffleSplit(n_splits=1, test_size=0.33, random_state=42) \n",
    "for y_train, y_test in split.split(df, df[\"Response\"]):\n",
    "        strat_train_set_y = df.loc[y_train]\n",
    "        strat_test_set_y = df.loc[y_test]\n",
    "     "
   ]
  },
  {
   "cell_type": "code",
   "execution_count": 95,
   "id": "5f4c6516",
   "metadata": {},
   "outputs": [
    {
     "data": {
      "text/plain": [
       "0    0.881049\n",
       "1    0.118951\n",
       "Name: Response, dtype: float64"
      ]
     },
     "execution_count": 95,
     "metadata": {},
     "output_type": "execute_result"
    }
   ],
   "source": [
    "strat_train_set_y[\"Response\"].value_counts() /len(strat_train_set_y)"
   ]
  },
  {
   "cell_type": "code",
   "execution_count": 121,
   "id": "f8b11f89",
   "metadata": {},
   "outputs": [],
   "source": [
    "Y_train = strat_train_set_y[\"Response\"]"
   ]
  },
  {
   "cell_type": "code",
   "execution_count": 122,
   "id": "3ca2085f",
   "metadata": {},
   "outputs": [],
   "source": [
    "Y_test = strat_test_set_y[\"Response\"]"
   ]
  },
  {
   "cell_type": "code",
   "execution_count": 123,
   "id": "48578ede",
   "metadata": {},
   "outputs": [
    {
     "data": {
      "text/html": [
       "<div>\n",
       "<style scoped>\n",
       "    .dataframe tbody tr th:only-of-type {\n",
       "        vertical-align: middle;\n",
       "    }\n",
       "\n",
       "    .dataframe tbody tr th {\n",
       "        vertical-align: top;\n",
       "    }\n",
       "\n",
       "    .dataframe thead th {\n",
       "        text-align: right;\n",
       "    }\n",
       "</style>\n",
       "<table border=\"1\" class=\"dataframe\">\n",
       "  <thead>\n",
       "    <tr style=\"text-align: right;\">\n",
       "      <th></th>\n",
       "      <th>id</th>\n",
       "      <th>Gender</th>\n",
       "      <th>Age</th>\n",
       "      <th>Driving_License</th>\n",
       "      <th>Region_Code</th>\n",
       "      <th>Previously_Insured</th>\n",
       "      <th>Vehicle_Age</th>\n",
       "      <th>Vehicle_Damage</th>\n",
       "      <th>Annual_Premium</th>\n",
       "      <th>Policy_Sales_Channel</th>\n",
       "      <th>Vintage</th>\n",
       "      <th>Response</th>\n",
       "    </tr>\n",
       "  </thead>\n",
       "  <tbody>\n",
       "    <tr>\n",
       "      <th>15903</th>\n",
       "      <td>15904</td>\n",
       "      <td>1.0</td>\n",
       "      <td>28</td>\n",
       "      <td>1</td>\n",
       "      <td>28</td>\n",
       "      <td>0</td>\n",
       "      <td>1.0</td>\n",
       "      <td>1.0</td>\n",
       "      <td>2630</td>\n",
       "      <td>152</td>\n",
       "      <td>50</td>\n",
       "      <td>0</td>\n",
       "    </tr>\n",
       "    <tr>\n",
       "      <th>2715</th>\n",
       "      <td>2716</td>\n",
       "      <td>1.0</td>\n",
       "      <td>72</td>\n",
       "      <td>1</td>\n",
       "      <td>28</td>\n",
       "      <td>0</td>\n",
       "      <td>0.0</td>\n",
       "      <td>1.0</td>\n",
       "      <td>48842</td>\n",
       "      <td>26</td>\n",
       "      <td>164</td>\n",
       "      <td>0</td>\n",
       "    </tr>\n",
       "    <tr>\n",
       "      <th>14448</th>\n",
       "      <td>14449</td>\n",
       "      <td>1.0</td>\n",
       "      <td>76</td>\n",
       "      <td>1</td>\n",
       "      <td>43</td>\n",
       "      <td>1</td>\n",
       "      <td>0.0</td>\n",
       "      <td>0.0</td>\n",
       "      <td>29775</td>\n",
       "      <td>124</td>\n",
       "      <td>28</td>\n",
       "      <td>0</td>\n",
       "    </tr>\n",
       "    <tr>\n",
       "      <th>6893</th>\n",
       "      <td>6894</td>\n",
       "      <td>1.0</td>\n",
       "      <td>25</td>\n",
       "      <td>1</td>\n",
       "      <td>29</td>\n",
       "      <td>1</td>\n",
       "      <td>1.0</td>\n",
       "      <td>0.0</td>\n",
       "      <td>21586</td>\n",
       "      <td>152</td>\n",
       "      <td>265</td>\n",
       "      <td>0</td>\n",
       "    </tr>\n",
       "    <tr>\n",
       "      <th>14692</th>\n",
       "      <td>14693</td>\n",
       "      <td>1.0</td>\n",
       "      <td>40</td>\n",
       "      <td>1</td>\n",
       "      <td>29</td>\n",
       "      <td>0</td>\n",
       "      <td>0.0</td>\n",
       "      <td>1.0</td>\n",
       "      <td>28202</td>\n",
       "      <td>124</td>\n",
       "      <td>225</td>\n",
       "      <td>0</td>\n",
       "    </tr>\n",
       "    <tr>\n",
       "      <th>...</th>\n",
       "      <td>...</td>\n",
       "      <td>...</td>\n",
       "      <td>...</td>\n",
       "      <td>...</td>\n",
       "      <td>...</td>\n",
       "      <td>...</td>\n",
       "      <td>...</td>\n",
       "      <td>...</td>\n",
       "      <td>...</td>\n",
       "      <td>...</td>\n",
       "      <td>...</td>\n",
       "      <td>...</td>\n",
       "    </tr>\n",
       "    <tr>\n",
       "      <th>19702</th>\n",
       "      <td>19703</td>\n",
       "      <td>1.0</td>\n",
       "      <td>62</td>\n",
       "      <td>1</td>\n",
       "      <td>8</td>\n",
       "      <td>1</td>\n",
       "      <td>0.0</td>\n",
       "      <td>0.0</td>\n",
       "      <td>23962</td>\n",
       "      <td>7</td>\n",
       "      <td>208</td>\n",
       "      <td>0</td>\n",
       "    </tr>\n",
       "    <tr>\n",
       "      <th>17459</th>\n",
       "      <td>17460</td>\n",
       "      <td>0.0</td>\n",
       "      <td>23</td>\n",
       "      <td>1</td>\n",
       "      <td>43</td>\n",
       "      <td>0</td>\n",
       "      <td>1.0</td>\n",
       "      <td>1.0</td>\n",
       "      <td>34172</td>\n",
       "      <td>152</td>\n",
       "      <td>290</td>\n",
       "      <td>0</td>\n",
       "    </tr>\n",
       "    <tr>\n",
       "      <th>5579</th>\n",
       "      <td>5580</td>\n",
       "      <td>1.0</td>\n",
       "      <td>52</td>\n",
       "      <td>1</td>\n",
       "      <td>3</td>\n",
       "      <td>0</td>\n",
       "      <td>0.0</td>\n",
       "      <td>1.0</td>\n",
       "      <td>2630</td>\n",
       "      <td>26</td>\n",
       "      <td>223</td>\n",
       "      <td>0</td>\n",
       "    </tr>\n",
       "    <tr>\n",
       "      <th>21676</th>\n",
       "      <td>21677</td>\n",
       "      <td>1.0</td>\n",
       "      <td>77</td>\n",
       "      <td>1</td>\n",
       "      <td>28</td>\n",
       "      <td>1</td>\n",
       "      <td>0.0</td>\n",
       "      <td>0.0</td>\n",
       "      <td>45789</td>\n",
       "      <td>147</td>\n",
       "      <td>170</td>\n",
       "      <td>0</td>\n",
       "    </tr>\n",
       "    <tr>\n",
       "      <th>13036</th>\n",
       "      <td>13037</td>\n",
       "      <td>0.0</td>\n",
       "      <td>50</td>\n",
       "      <td>1</td>\n",
       "      <td>38</td>\n",
       "      <td>0</td>\n",
       "      <td>0.0</td>\n",
       "      <td>1.0</td>\n",
       "      <td>2630</td>\n",
       "      <td>26</td>\n",
       "      <td>16</td>\n",
       "      <td>1</td>\n",
       "    </tr>\n",
       "  </tbody>\n",
       "</table>\n",
       "<p>15250 rows × 12 columns</p>\n",
       "</div>"
      ],
      "text/plain": [
       "          id  Gender  Age  Driving_License  Region_Code  Previously_Insured  \\\n",
       "15903  15904     1.0   28                1           28                   0   \n",
       "2715    2716     1.0   72                1           28                   0   \n",
       "14448  14449     1.0   76                1           43                   1   \n",
       "6893    6894     1.0   25                1           29                   1   \n",
       "14692  14693     1.0   40                1           29                   0   \n",
       "...      ...     ...  ...              ...          ...                 ...   \n",
       "19702  19703     1.0   62                1            8                   1   \n",
       "17459  17460     0.0   23                1           43                   0   \n",
       "5579    5580     1.0   52                1            3                   0   \n",
       "21676  21677     1.0   77                1           28                   1   \n",
       "13036  13037     0.0   50                1           38                   0   \n",
       "\n",
       "       Vehicle_Age  Vehicle_Damage  Annual_Premium  Policy_Sales_Channel  \\\n",
       "15903          1.0             1.0            2630                   152   \n",
       "2715           0.0             1.0           48842                    26   \n",
       "14448          0.0             0.0           29775                   124   \n",
       "6893           1.0             0.0           21586                   152   \n",
       "14692          0.0             1.0           28202                   124   \n",
       "...            ...             ...             ...                   ...   \n",
       "19702          0.0             0.0           23962                     7   \n",
       "17459          1.0             1.0           34172                   152   \n",
       "5579           0.0             1.0            2630                    26   \n",
       "21676          0.0             0.0           45789                   147   \n",
       "13036          0.0             1.0            2630                    26   \n",
       "\n",
       "       Vintage  Response  \n",
       "15903       50         0  \n",
       "2715       164         0  \n",
       "14448       28         0  \n",
       "6893       265         0  \n",
       "14692      225         0  \n",
       "...        ...       ...  \n",
       "19702      208         0  \n",
       "17459      290         0  \n",
       "5579       223         0  \n",
       "21676      170         0  \n",
       "13036       16         1  \n",
       "\n",
       "[15250 rows x 12 columns]"
      ]
     },
     "execution_count": 123,
     "metadata": {},
     "output_type": "execute_result"
    }
   ],
   "source": [
    "strat_train_set_X"
   ]
  },
  {
   "cell_type": "code",
   "execution_count": 124,
   "id": "bc02cb6b",
   "metadata": {},
   "outputs": [
    {
     "data": {
      "text/plain": [
       "1.0    0.505192\n",
       "0.0    0.494808\n",
       "Name: Vehicle_Damage, dtype: float64"
      ]
     },
     "execution_count": 124,
     "metadata": {},
     "output_type": "execute_result"
    }
   ],
   "source": [
    "strat_test_set[\"Vehicle_Damage\"].value_counts() / len(strat_test_set)"
   ]
  },
  {
   "cell_type": "code",
   "execution_count": 125,
   "id": "91ed8740",
   "metadata": {},
   "outputs": [],
   "source": [
    "from sklearn.linear_model import LogisticRegression"
   ]
  },
  {
   "cell_type": "code",
   "execution_count": 126,
   "id": "4774f20c",
   "metadata": {},
   "outputs": [],
   "source": [
    "logmodel = LogisticRegression()"
   ]
  },
  {
   "cell_type": "code",
   "execution_count": 127,
   "id": "e7889491",
   "metadata": {},
   "outputs": [
    {
     "data": {
      "text/plain": [
       "LogisticRegression()"
      ]
     },
     "execution_count": 127,
     "metadata": {},
     "output_type": "execute_result"
    }
   ],
   "source": [
    "logmodel.fit(strat_train_set_X,Y_train)"
   ]
  },
  {
   "cell_type": "code",
   "execution_count": 128,
   "id": "05b48613",
   "metadata": {},
   "outputs": [],
   "source": [
    "from sklearn.metrics import classification_report"
   ]
  },
  {
   "cell_type": "code",
   "execution_count": 129,
   "id": "cf3ae2cc",
   "metadata": {},
   "outputs": [],
   "source": [
    "predictions = logmodel.predict(strat_test_set_X)"
   ]
  },
  {
   "cell_type": "code",
   "execution_count": 136,
   "id": "fbf7ae5f",
   "metadata": {},
   "outputs": [
    {
     "name": "stdout",
     "output_type": "stream",
     "text": [
      "              precision    recall  f1-score   support\n",
      "\n",
      "           0       0.88      1.00      0.94      6618\n",
      "           1       0.00      0.00      0.00       894\n",
      "\n",
      "    accuracy                           0.88      7512\n",
      "   macro avg       0.44      0.50      0.47      7512\n",
      "weighted avg       0.78      0.88      0.83      7512\n",
      "\n"
     ]
    },
    {
     "name": "stderr",
     "output_type": "stream",
     "text": [
      "/Users/jasleengill/opt/anaconda3/lib/python3.9/site-packages/sklearn/metrics/_classification.py:1318: UndefinedMetricWarning: Precision and F-score are ill-defined and being set to 0.0 in labels with no predicted samples. Use `zero_division` parameter to control this behavior.\n",
      "  _warn_prf(average, modifier, msg_start, len(result))\n",
      "/Users/jasleengill/opt/anaconda3/lib/python3.9/site-packages/sklearn/metrics/_classification.py:1318: UndefinedMetricWarning: Precision and F-score are ill-defined and being set to 0.0 in labels with no predicted samples. Use `zero_division` parameter to control this behavior.\n",
      "  _warn_prf(average, modifier, msg_start, len(result))\n",
      "/Users/jasleengill/opt/anaconda3/lib/python3.9/site-packages/sklearn/metrics/_classification.py:1318: UndefinedMetricWarning: Precision and F-score are ill-defined and being set to 0.0 in labels with no predicted samples. Use `zero_division` parameter to control this behavior.\n",
      "  _warn_prf(average, modifier, msg_start, len(result))\n"
     ]
    }
   ],
   "source": [
    "print(classification_report(Y_test, predictions))"
   ]
  },
  {
   "cell_type": "code",
   "execution_count": 138,
   "id": "f51efa97",
   "metadata": {},
   "outputs": [],
   "source": [
    "acc = logmodel.score(strat_test_set_X,Y_test)*100"
   ]
  },
  {
   "cell_type": "code",
   "execution_count": 158,
   "id": "84a6648f",
   "metadata": {},
   "outputs": [
    {
     "data": {
      "text/plain": [
       "88.09904153354633"
      ]
     },
     "execution_count": 158,
     "metadata": {},
     "output_type": "execute_result"
    }
   ],
   "source": [
    "acc"
   ]
  },
  {
   "cell_type": "code",
   "execution_count": 131,
   "id": "a18d00bb",
   "metadata": {},
   "outputs": [],
   "source": [
    "from sklearn.neighbors import KNeighborsClassifier"
   ]
  },
  {
   "cell_type": "code",
   "execution_count": 143,
   "id": "c354e603",
   "metadata": {},
   "outputs": [],
   "source": [
    "knn = KNeighborsClassifier(n_neighbors=2)"
   ]
  },
  {
   "cell_type": "code",
   "execution_count": 144,
   "id": "868fb901",
   "metadata": {},
   "outputs": [
    {
     "data": {
      "text/plain": [
       "KNeighborsClassifier(n_neighbors=2)"
      ]
     },
     "execution_count": 144,
     "metadata": {},
     "output_type": "execute_result"
    }
   ],
   "source": [
    "knn.fit(strat_train_set_X,Y_train)"
   ]
  },
  {
   "cell_type": "code",
   "execution_count": 145,
   "id": "f7721b42",
   "metadata": {},
   "outputs": [],
   "source": [
    "pred = knn.predict(strat_test_set_X)"
   ]
  },
  {
   "cell_type": "code",
   "execution_count": 146,
   "id": "f23da694",
   "metadata": {},
   "outputs": [],
   "source": [
    "acc2 = knn.score(strat_test_set_X,Y_test)*100"
   ]
  },
  {
   "cell_type": "code",
   "execution_count": 151,
   "id": "f7094581",
   "metadata": {},
   "outputs": [
    {
     "data": {
      "text/plain": [
       "86.89"
      ]
     },
     "execution_count": 151,
     "metadata": {},
     "output_type": "execute_result"
    }
   ],
   "source": [
    "round(acc2, 2)"
   ]
  },
  {
   "cell_type": "code",
   "execution_count": 148,
   "id": "2caf0be7",
   "metadata": {},
   "outputs": [
    {
     "name": "stdout",
     "output_type": "stream",
     "text": [
      "              precision    recall  f1-score   support\n",
      "\n",
      "           0       0.88      0.98      0.93      6618\n",
      "           1       0.12      0.02      0.03       894\n",
      "\n",
      "    accuracy                           0.87      7512\n",
      "   macro avg       0.50      0.50      0.48      7512\n",
      "weighted avg       0.79      0.87      0.82      7512\n",
      "\n"
     ]
    }
   ],
   "source": [
    "print(classification_report(Y_test, pred))"
   ]
  },
  {
   "cell_type": "code",
   "execution_count": 149,
   "id": "3f85ebc1",
   "metadata": {},
   "outputs": [
    {
     "data": {
      "text/plain": [
       "SVC()"
      ]
     },
     "execution_count": 149,
     "metadata": {},
     "output_type": "execute_result"
    }
   ],
   "source": [
    "from sklearn.svm import SVC\n",
    "svm = SVC()\n",
    "svm.fit(strat_train_set_X,Y_train)"
   ]
  },
  {
   "cell_type": "code",
   "execution_count": 150,
   "id": "77250bbb",
   "metadata": {},
   "outputs": [],
   "source": [
    "acc3 = svm.score(strat_test_set_X,Y_test)*100"
   ]
  },
  {
   "cell_type": "code",
   "execution_count": 157,
   "id": "8269b067",
   "metadata": {},
   "outputs": [
    {
     "data": {
      "text/plain": [
       "88.09904153354633"
      ]
     },
     "execution_count": 157,
     "metadata": {},
     "output_type": "execute_result"
    }
   ],
   "source": [
    "acc3"
   ]
  },
  {
   "cell_type": "code",
   "execution_count": 153,
   "id": "81fc6a67",
   "metadata": {},
   "outputs": [
    {
     "data": {
      "text/plain": [
       "DecisionTreeClassifier()"
      ]
     },
     "execution_count": 153,
     "metadata": {},
     "output_type": "execute_result"
    }
   ],
   "source": [
    "from sklearn.tree import DecisionTreeClassifier\n",
    "dtc = DecisionTreeClassifier()\n",
    "dtc.fit(strat_train_set_X,Y_train)"
   ]
  },
  {
   "cell_type": "code",
   "execution_count": 154,
   "id": "a4c85208",
   "metadata": {},
   "outputs": [],
   "source": [
    "acc4 = dtc.score(strat_test_set_X,Y_test)*100"
   ]
  },
  {
   "cell_type": "code",
   "execution_count": 156,
   "id": "fef77d3f",
   "metadata": {},
   "outputs": [
    {
     "data": {
      "text/plain": [
       "78.3"
      ]
     },
     "execution_count": 156,
     "metadata": {},
     "output_type": "execute_result"
    }
   ],
   "source": [
    "round(acc4, 2)"
   ]
  },
  {
   "cell_type": "code",
   "execution_count": null,
   "id": "f67291f4",
   "metadata": {},
   "outputs": [],
   "source": []
  }
 ],
 "metadata": {
  "kernelspec": {
   "display_name": "Python 3 (ipykernel)",
   "language": "python",
   "name": "python3"
  },
  "language_info": {
   "codemirror_mode": {
    "name": "ipython",
    "version": 3
   },
   "file_extension": ".py",
   "mimetype": "text/x-python",
   "name": "python",
   "nbconvert_exporter": "python",
   "pygments_lexer": "ipython3",
   "version": "3.9.12"
  }
 },
 "nbformat": 4,
 "nbformat_minor": 5
}
