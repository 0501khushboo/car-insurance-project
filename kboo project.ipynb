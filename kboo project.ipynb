{
 "cells": [
  {
   "cell_type": "code",
   "execution_count": 1,
   "id": "797dd24d",
   "metadata": {},
   "outputs": [],
   "source": [
    "#importing all necessary libraries\n",
    "import numpy as np\n",
    "import pandas as pd\n",
    "import matplotlib.pyplot as plt\n",
    "import seaborn as sns \n",
    "%matplotlib inline"
   ]
  },
  {
   "cell_type": "code",
   "execution_count": 2,
   "id": "fd2a4f2f",
   "metadata": {},
   "outputs": [],
   "source": [
    "#reading the csv file as a datframe\n",
    "df = pd.read_csv(\"data-1-Table 1.csv\")"
   ]
  },
  {
   "cell_type": "code",
   "execution_count": 3,
   "id": "0dd6c8d2",
   "metadata": {},
   "outputs": [
    {
     "data": {
      "text/html": [
       "<div>\n",
       "<style scoped>\n",
       "    .dataframe tbody tr th:only-of-type {\n",
       "        vertical-align: middle;\n",
       "    }\n",
       "\n",
       "    .dataframe tbody tr th {\n",
       "        vertical-align: top;\n",
       "    }\n",
       "\n",
       "    .dataframe thead th {\n",
       "        text-align: right;\n",
       "    }\n",
       "</style>\n",
       "<table border=\"1\" class=\"dataframe\">\n",
       "  <thead>\n",
       "    <tr style=\"text-align: right;\">\n",
       "      <th></th>\n",
       "      <th>id</th>\n",
       "      <th>Gender</th>\n",
       "      <th>Age</th>\n",
       "      <th>Driving_License</th>\n",
       "      <th>Region_Code</th>\n",
       "      <th>Previously_Insured</th>\n",
       "      <th>Vehicle_Age</th>\n",
       "      <th>Vehicle_Damage</th>\n",
       "      <th>Annual_Premium</th>\n",
       "      <th>Policy_Sales_Channel</th>\n",
       "      <th>Vintage</th>\n",
       "      <th>Response</th>\n",
       "      <th>Unnamed: 12</th>\n",
       "      <th>Unnamed: 13</th>\n",
       "      <th>Unnamed: 14</th>\n",
       "    </tr>\n",
       "  </thead>\n",
       "  <tbody>\n",
       "    <tr>\n",
       "      <th>0</th>\n",
       "      <td>1</td>\n",
       "      <td>Female</td>\n",
       "      <td>26</td>\n",
       "      <td>1</td>\n",
       "      <td>30</td>\n",
       "      <td>1</td>\n",
       "      <td>&lt; 1 Year</td>\n",
       "      <td>No</td>\n",
       "      <td>31136</td>\n",
       "      <td>152</td>\n",
       "      <td>186</td>\n",
       "      <td>0</td>\n",
       "      <td>NaN</td>\n",
       "      <td>NaN</td>\n",
       "      <td></td>\n",
       "    </tr>\n",
       "    <tr>\n",
       "      <th>1</th>\n",
       "      <td>2</td>\n",
       "      <td>Male</td>\n",
       "      <td>48</td>\n",
       "      <td>1</td>\n",
       "      <td>3</td>\n",
       "      <td>0</td>\n",
       "      <td>1-2 Year</td>\n",
       "      <td>No</td>\n",
       "      <td>38233</td>\n",
       "      <td>124</td>\n",
       "      <td>246</td>\n",
       "      <td>0</td>\n",
       "      <td>NaN</td>\n",
       "      <td>NaN</td>\n",
       "      <td>NaN</td>\n",
       "    </tr>\n",
       "    <tr>\n",
       "      <th>2</th>\n",
       "      <td>3</td>\n",
       "      <td>Male</td>\n",
       "      <td>60</td>\n",
       "      <td>1</td>\n",
       "      <td>28</td>\n",
       "      <td>0</td>\n",
       "      <td>1-2 Year</td>\n",
       "      <td>Yes</td>\n",
       "      <td>66338</td>\n",
       "      <td>124</td>\n",
       "      <td>73</td>\n",
       "      <td>0</td>\n",
       "      <td>NaN</td>\n",
       "      <td>NaN</td>\n",
       "      <td>NaN</td>\n",
       "    </tr>\n",
       "    <tr>\n",
       "      <th>3</th>\n",
       "      <td>4</td>\n",
       "      <td>Male</td>\n",
       "      <td>59</td>\n",
       "      <td>1</td>\n",
       "      <td>23</td>\n",
       "      <td>0</td>\n",
       "      <td>1-2 Year</td>\n",
       "      <td>No</td>\n",
       "      <td>27865</td>\n",
       "      <td>124</td>\n",
       "      <td>39</td>\n",
       "      <td>0</td>\n",
       "      <td>NaN</td>\n",
       "      <td>NaN</td>\n",
       "      <td>NaN</td>\n",
       "    </tr>\n",
       "    <tr>\n",
       "      <th>4</th>\n",
       "      <td>5</td>\n",
       "      <td>Female</td>\n",
       "      <td>59</td>\n",
       "      <td>1</td>\n",
       "      <td>26</td>\n",
       "      <td>1</td>\n",
       "      <td>1-2 Year</td>\n",
       "      <td>No</td>\n",
       "      <td>35649</td>\n",
       "      <td>122</td>\n",
       "      <td>136</td>\n",
       "      <td>0</td>\n",
       "      <td>NaN</td>\n",
       "      <td>NaN</td>\n",
       "      <td>NaN</td>\n",
       "    </tr>\n",
       "  </tbody>\n",
       "</table>\n",
       "</div>"
      ],
      "text/plain": [
       "   id  Gender  Age  Driving_License  Region_Code  Previously_Insured  \\\n",
       "0   1  Female   26                1           30                   1   \n",
       "1   2    Male   48                1            3                   0   \n",
       "2   3    Male   60                1           28                   0   \n",
       "3   4    Male   59                1           23                   0   \n",
       "4   5  Female   59                1           26                   1   \n",
       "\n",
       "  Vehicle_Age Vehicle_Damage  Annual_Premium  Policy_Sales_Channel  Vintage  \\\n",
       "0    < 1 Year             No           31136                   152      186   \n",
       "1    1-2 Year             No           38233                   124      246   \n",
       "2    1-2 Year            Yes           66338                   124       73   \n",
       "3    1-2 Year             No           27865                   124       39   \n",
       "4    1-2 Year             No           35649                   122      136   \n",
       "\n",
       "   Response  Unnamed: 12  Unnamed: 13 Unnamed: 14  \n",
       "0         0          NaN          NaN              \n",
       "1         0          NaN          NaN         NaN  \n",
       "2         0          NaN          NaN         NaN  \n",
       "3         0          NaN          NaN         NaN  \n",
       "4         0          NaN          NaN         NaN  "
      ]
     },
     "execution_count": 3,
     "metadata": {},
     "output_type": "execute_result"
    }
   ],
   "source": [
    "#checking the head of the dataframe\n",
    "df.head()"
   ]
  },
  {
   "cell_type": "code",
   "execution_count": 4,
   "id": "51e3f736",
   "metadata": {},
   "outputs": [
    {
     "name": "stdout",
     "output_type": "stream",
     "text": [
      "<class 'pandas.core.frame.DataFrame'>\n",
      "RangeIndex: 22762 entries, 0 to 22761\n",
      "Data columns (total 15 columns):\n",
      " #   Column                Non-Null Count  Dtype  \n",
      "---  ------                --------------  -----  \n",
      " 0   id                    22762 non-null  int64  \n",
      " 1   Gender                22762 non-null  object \n",
      " 2   Age                   22762 non-null  int64  \n",
      " 3   Driving_License       22762 non-null  int64  \n",
      " 4   Region_Code           22762 non-null  int64  \n",
      " 5   Previously_Insured    22762 non-null  int64  \n",
      " 6   Vehicle_Age           22762 non-null  object \n",
      " 7   Vehicle_Damage        22762 non-null  object \n",
      " 8   Annual_Premium        22762 non-null  int64  \n",
      " 9   Policy_Sales_Channel  22762 non-null  int64  \n",
      " 10  Vintage               22762 non-null  int64  \n",
      " 11  Response              22762 non-null  int64  \n",
      " 12  Unnamed: 12           0 non-null      float64\n",
      " 13  Unnamed: 13           0 non-null      float64\n",
      " 14  Unnamed: 14           1 non-null      object \n",
      "dtypes: float64(2), int64(9), object(4)\n",
      "memory usage: 2.6+ MB\n"
     ]
    }
   ],
   "source": [
    "#checking for null values and dtype using .info() method\n",
    "df.info()"
   ]
  },
  {
   "cell_type": "code",
   "execution_count": 5,
   "id": "25b399e5",
   "metadata": {},
   "outputs": [
    {
     "data": {
      "text/plain": [
       "0   NaN\n",
       "1   NaN\n",
       "2   NaN\n",
       "3   NaN\n",
       "4   NaN\n",
       "Name: Unnamed: 12, dtype: float64"
      ]
     },
     "execution_count": 5,
     "metadata": {},
     "output_type": "execute_result"
    }
   ],
   "source": [
    "df[\"Unnamed: 12\"].head()"
   ]
  },
  {
   "cell_type": "code",
   "execution_count": 6,
   "id": "9600511e",
   "metadata": {},
   "outputs": [
    {
     "data": {
      "text/plain": [
       "id                          0\n",
       "Gender                      0\n",
       "Age                         0\n",
       "Driving_License             0\n",
       "Region_Code                 0\n",
       "Previously_Insured          0\n",
       "Vehicle_Age                 0\n",
       "Vehicle_Damage              0\n",
       "Annual_Premium              0\n",
       "Policy_Sales_Channel        0\n",
       "Vintage                     0\n",
       "Response                    0\n",
       "Unnamed: 12             22762\n",
       "Unnamed: 13             22762\n",
       "Unnamed: 14             22761\n",
       "dtype: int64"
      ]
     },
     "execution_count": 6,
     "metadata": {},
     "output_type": "execute_result"
    }
   ],
   "source": [
    "#since unnamed has majority of its values missing(close to 100) we will drop this dataset\n",
    "df.isnull().sum()"
   ]
  },
  {
   "cell_type": "code",
   "execution_count": 7,
   "id": "db8b0862",
   "metadata": {},
   "outputs": [],
   "source": [
    "#dropping the columns with more than 22000 missing values\n",
    "df.dropna(axis = 1, thresh = 22000, inplace = True)"
   ]
  },
  {
   "cell_type": "code",
   "execution_count": 8,
   "id": "03e5aa43",
   "metadata": {},
   "outputs": [
    {
     "name": "stdout",
     "output_type": "stream",
     "text": [
      "<class 'pandas.core.frame.DataFrame'>\n",
      "RangeIndex: 22762 entries, 0 to 22761\n",
      "Data columns (total 12 columns):\n",
      " #   Column                Non-Null Count  Dtype \n",
      "---  ------                --------------  ----- \n",
      " 0   id                    22762 non-null  int64 \n",
      " 1   Gender                22762 non-null  object\n",
      " 2   Age                   22762 non-null  int64 \n",
      " 3   Driving_License       22762 non-null  int64 \n",
      " 4   Region_Code           22762 non-null  int64 \n",
      " 5   Previously_Insured    22762 non-null  int64 \n",
      " 6   Vehicle_Age           22762 non-null  object\n",
      " 7   Vehicle_Damage        22762 non-null  object\n",
      " 8   Annual_Premium        22762 non-null  int64 \n",
      " 9   Policy_Sales_Channel  22762 non-null  int64 \n",
      " 10  Vintage               22762 non-null  int64 \n",
      " 11  Response              22762 non-null  int64 \n",
      "dtypes: int64(9), object(3)\n",
      "memory usage: 2.1+ MB\n"
     ]
    }
   ],
   "source": [
    "#checking if all null values are dropped\n",
    "df.info()"
   ]
  },
  {
   "cell_type": "code",
   "execution_count": 9,
   "id": "7dc07af7",
   "metadata": {},
   "outputs": [
    {
     "data": {
      "text/plain": [
       "id                      0\n",
       "Gender                  0\n",
       "Age                     0\n",
       "Driving_License         0\n",
       "Region_Code             0\n",
       "Previously_Insured      0\n",
       "Vehicle_Age             0\n",
       "Vehicle_Damage          0\n",
       "Annual_Premium          0\n",
       "Policy_Sales_Channel    0\n",
       "Vintage                 0\n",
       "Response                0\n",
       "dtype: int64"
      ]
     },
     "execution_count": 9,
     "metadata": {},
     "output_type": "execute_result"
    }
   ],
   "source": [
    "#checking for null values \n",
    "df.isnull().sum()"
   ]
  },
  {
   "cell_type": "code",
   "execution_count": 10,
   "id": "4211f7de",
   "metadata": {},
   "outputs": [
    {
     "data": {
      "text/plain": [
       "0         No\n",
       "1         No\n",
       "2        Yes\n",
       "3         No\n",
       "4         No\n",
       "        ... \n",
       "22757    Yes\n",
       "22758    Yes\n",
       "22759     No\n",
       "22760    Yes\n",
       "22761     No\n",
       "Name: Vehicle_Damage, Length: 22762, dtype: object"
      ]
     },
     "execution_count": 10,
     "metadata": {},
     "output_type": "execute_result"
    }
   ],
   "source": [
    "#converting object data to numerical datatype\n",
    "#1st we'll do Vehicle_Damage \n",
    "df[\"Vehicle_Damage\"]"
   ]
  },
  {
   "cell_type": "code",
   "execution_count": 11,
   "id": "b6741bd3",
   "metadata": {},
   "outputs": [],
   "source": [
    "#importing ordinal encoder to change categorical vlaues to numerical\n",
    "from sklearn.preprocessing import OrdinalEncoder"
   ]
  },
  {
   "cell_type": "code",
   "execution_count": 12,
   "id": "6b021bc4",
   "metadata": {},
   "outputs": [],
   "source": [
    "#defining ordinal encoder as a function\n",
    "ordinal_encoder = OrdinalEncoder()"
   ]
  },
  {
   "cell_type": "code",
   "execution_count": 13,
   "id": "0d566ace",
   "metadata": {},
   "outputs": [],
   "source": [
    "#converting vehicle_damage to numeric data type\n",
    "df[\"Vehicle_Damage\"] = ordinal_encoder.fit_transform(df[[\"Vehicle_Damage\"]])"
   ]
  },
  {
   "cell_type": "code",
   "execution_count": 14,
   "id": "b840d3d4",
   "metadata": {},
   "outputs": [
    {
     "data": {
      "text/plain": [
       "[array(['No', 'Yes'], dtype=object)]"
      ]
     },
     "execution_count": 14,
     "metadata": {},
     "output_type": "execute_result"
    }
   ],
   "source": [
    "ordinal_encoder.categories_"
   ]
  },
  {
   "cell_type": "code",
   "execution_count": 15,
   "id": "72023a9c",
   "metadata": {},
   "outputs": [],
   "source": [
    "#convert Vehicle_Age to numeric data type\n",
    "df[\"Vehicle_Age\"] = ordinal_encoder.fit_transform(df[[\"Vehicle_Age\"]])"
   ]
  },
  {
   "cell_type": "code",
   "execution_count": 16,
   "id": "8f29894a",
   "metadata": {},
   "outputs": [
    {
     "data": {
      "text/plain": [
       "[array(['1-2 Year', '< 1 Year', '> 2 Years'], dtype=object)]"
      ]
     },
     "execution_count": 16,
     "metadata": {},
     "output_type": "execute_result"
    }
   ],
   "source": [
    "ordinal_encoder.categories_"
   ]
  },
  {
   "cell_type": "code",
   "execution_count": 17,
   "id": "0fbd9d93",
   "metadata": {},
   "outputs": [],
   "source": [
    "#convert gender to numeric data type\n",
    "df[\"Gender\"] = ordinal_encoder.fit_transform(df[[\"Gender\"]])"
   ]
  },
  {
   "cell_type": "markdown",
   "id": "d65ee42d",
   "metadata": {},
   "source": [
    "# EXPLORATORY DATA ANALYSIS"
   ]
  },
  {
   "cell_type": "code",
   "execution_count": 18,
   "id": "8a440465",
   "metadata": {},
   "outputs": [],
   "source": [
    "##TARGET VARIABLE = RESPONSE VARIABLE "
   ]
  },
  {
   "cell_type": "code",
   "execution_count": 19,
   "id": "67fae849",
   "metadata": {},
   "outputs": [
    {
     "name": "stdout",
     "output_type": "stream",
     "text": [
      "<class 'pandas.core.frame.DataFrame'>\n",
      "RangeIndex: 22762 entries, 0 to 22761\n",
      "Data columns (total 12 columns):\n",
      " #   Column                Non-Null Count  Dtype  \n",
      "---  ------                --------------  -----  \n",
      " 0   id                    22762 non-null  int64  \n",
      " 1   Gender                22762 non-null  float64\n",
      " 2   Age                   22762 non-null  int64  \n",
      " 3   Driving_License       22762 non-null  int64  \n",
      " 4   Region_Code           22762 non-null  int64  \n",
      " 5   Previously_Insured    22762 non-null  int64  \n",
      " 6   Vehicle_Age           22762 non-null  float64\n",
      " 7   Vehicle_Damage        22762 non-null  float64\n",
      " 8   Annual_Premium        22762 non-null  int64  \n",
      " 9   Policy_Sales_Channel  22762 non-null  int64  \n",
      " 10  Vintage               22762 non-null  int64  \n",
      " 11  Response              22762 non-null  int64  \n",
      "dtypes: float64(3), int64(9)\n",
      "memory usage: 2.1 MB\n"
     ]
    }
   ],
   "source": [
    "df.info()"
   ]
  },
  {
   "cell_type": "code",
   "execution_count": 20,
   "id": "64eb0266",
   "metadata": {},
   "outputs": [
    {
     "data": {
      "text/html": [
       "<div>\n",
       "<style scoped>\n",
       "    .dataframe tbody tr th:only-of-type {\n",
       "        vertical-align: middle;\n",
       "    }\n",
       "\n",
       "    .dataframe tbody tr th {\n",
       "        vertical-align: top;\n",
       "    }\n",
       "\n",
       "    .dataframe thead th {\n",
       "        text-align: right;\n",
       "    }\n",
       "</style>\n",
       "<table border=\"1\" class=\"dataframe\">\n",
       "  <thead>\n",
       "    <tr style=\"text-align: right;\">\n",
       "      <th></th>\n",
       "      <th>id</th>\n",
       "      <th>Gender</th>\n",
       "      <th>Age</th>\n",
       "      <th>Driving_License</th>\n",
       "      <th>Region_Code</th>\n",
       "      <th>Previously_Insured</th>\n",
       "      <th>Vehicle_Age</th>\n",
       "      <th>Vehicle_Damage</th>\n",
       "      <th>Annual_Premium</th>\n",
       "      <th>Policy_Sales_Channel</th>\n",
       "      <th>Vintage</th>\n",
       "      <th>Response</th>\n",
       "    </tr>\n",
       "  </thead>\n",
       "  <tbody>\n",
       "    <tr>\n",
       "      <th>0</th>\n",
       "      <td>1</td>\n",
       "      <td>0.0</td>\n",
       "      <td>26</td>\n",
       "      <td>1</td>\n",
       "      <td>30</td>\n",
       "      <td>1</td>\n",
       "      <td>1.0</td>\n",
       "      <td>0.0</td>\n",
       "      <td>31136</td>\n",
       "      <td>152</td>\n",
       "      <td>186</td>\n",
       "      <td>0</td>\n",
       "    </tr>\n",
       "    <tr>\n",
       "      <th>1</th>\n",
       "      <td>2</td>\n",
       "      <td>1.0</td>\n",
       "      <td>48</td>\n",
       "      <td>1</td>\n",
       "      <td>3</td>\n",
       "      <td>0</td>\n",
       "      <td>0.0</td>\n",
       "      <td>0.0</td>\n",
       "      <td>38233</td>\n",
       "      <td>124</td>\n",
       "      <td>246</td>\n",
       "      <td>0</td>\n",
       "    </tr>\n",
       "    <tr>\n",
       "      <th>2</th>\n",
       "      <td>3</td>\n",
       "      <td>1.0</td>\n",
       "      <td>60</td>\n",
       "      <td>1</td>\n",
       "      <td>28</td>\n",
       "      <td>0</td>\n",
       "      <td>0.0</td>\n",
       "      <td>1.0</td>\n",
       "      <td>66338</td>\n",
       "      <td>124</td>\n",
       "      <td>73</td>\n",
       "      <td>0</td>\n",
       "    </tr>\n",
       "    <tr>\n",
       "      <th>3</th>\n",
       "      <td>4</td>\n",
       "      <td>1.0</td>\n",
       "      <td>59</td>\n",
       "      <td>1</td>\n",
       "      <td>23</td>\n",
       "      <td>0</td>\n",
       "      <td>0.0</td>\n",
       "      <td>0.0</td>\n",
       "      <td>27865</td>\n",
       "      <td>124</td>\n",
       "      <td>39</td>\n",
       "      <td>0</td>\n",
       "    </tr>\n",
       "    <tr>\n",
       "      <th>4</th>\n",
       "      <td>5</td>\n",
       "      <td>0.0</td>\n",
       "      <td>59</td>\n",
       "      <td>1</td>\n",
       "      <td>26</td>\n",
       "      <td>1</td>\n",
       "      <td>0.0</td>\n",
       "      <td>0.0</td>\n",
       "      <td>35649</td>\n",
       "      <td>122</td>\n",
       "      <td>136</td>\n",
       "      <td>0</td>\n",
       "    </tr>\n",
       "  </tbody>\n",
       "</table>\n",
       "</div>"
      ],
      "text/plain": [
       "   id  Gender  Age  Driving_License  Region_Code  Previously_Insured  \\\n",
       "0   1     0.0   26                1           30                   1   \n",
       "1   2     1.0   48                1            3                   0   \n",
       "2   3     1.0   60                1           28                   0   \n",
       "3   4     1.0   59                1           23                   0   \n",
       "4   5     0.0   59                1           26                   1   \n",
       "\n",
       "   Vehicle_Age  Vehicle_Damage  Annual_Premium  Policy_Sales_Channel  Vintage  \\\n",
       "0          1.0             0.0           31136                   152      186   \n",
       "1          0.0             0.0           38233                   124      246   \n",
       "2          0.0             1.0           66338                   124       73   \n",
       "3          0.0             0.0           27865                   124       39   \n",
       "4          0.0             0.0           35649                   122      136   \n",
       "\n",
       "   Response  \n",
       "0         0  \n",
       "1         0  \n",
       "2         0  \n",
       "3         0  \n",
       "4         0  "
      ]
     },
     "execution_count": 20,
     "metadata": {},
     "output_type": "execute_result"
    }
   ],
   "source": [
    "df.head()"
   ]
  },
  {
   "cell_type": "code",
   "execution_count": 21,
   "id": "b15d42c0",
   "metadata": {},
   "outputs": [
    {
     "data": {
      "text/plain": [
       "<seaborn.axisgrid.FacetGrid at 0x7f9a83688d30>"
      ]
     },
     "execution_count": 21,
     "metadata": {},
     "output_type": "execute_result"
    },
    {
     "data": {
      "image/png": "[encoded data removed]",
      "text/plain": [
       "<Figure size 412x360 with 1 Axes>"
      ]
     },
     "metadata": {
      "needs_background": "light"
     },
     "output_type": "display_data"
    }
   ],
   "source": [
    "sns.catplot(data = df, x = \"Response\", kind = \"count\", hue = \"Gender\", palette = \"ch:\")"
   ]
  },
  {
   "cell_type": "code",
   "execution_count": 22,
   "id": "e3724a0f",
   "metadata": {},
   "outputs": [],
   "source": [
    "from sklearn.model_selection import train_test_split"
   ]
  },
  {
   "cell_type": "code",
   "execution_count": 23,
   "id": "24f51ae3",
   "metadata": {},
   "outputs": [],
   "source": [
    "X = df[['Gender', 'Age', 'Driving_License', 'Region_Code',\n",
    "       'Previously_Insured', 'Vehicle_Age', 'Vehicle_Damage', 'Annual_Premium',\n",
    "       'Policy_Sales_Channel', 'Vintage']]\n",
    "y = df['Response']"
   ]
  },
  {
   "cell_type": "code",
   "execution_count": 24,
   "id": "eea483f0",
   "metadata": {},
   "outputs": [],
   "source": [
    "X_train, X_test, y_train, y_test = train_test_split(X, y, test_size=0.33, random_state=42)"
   ]
  },
  {
   "cell_type": "code",
   "execution_count": 25,
   "id": "0ddb71e3",
   "metadata": {},
   "outputs": [],
   "source": [
    "from sklearn.linear_model import LogisticRegression"
   ]
  },
  {
   "cell_type": "code",
   "execution_count": 26,
   "id": "ef17c8fd",
   "metadata": {},
   "outputs": [],
   "source": [
    "logmodel = LogisticRegression()"
   ]
  },
  {
   "cell_type": "code",
   "execution_count": 27,
   "id": "315db2e3",
   "metadata": {},
   "outputs": [
    {
     "data": {
      "text/plain": [
       "LogisticRegression()"
      ]
     },
     "execution_count": 27,
     "metadata": {},
     "output_type": "execute_result"
    }
   ],
   "source": [
    "logmodel.fit(X_train, y_train)"
   ]
  },
  {
   "cell_type": "code",
   "execution_count": 28,
   "id": "0ec244d8",
   "metadata": {},
   "outputs": [],
   "source": [
    "acc = logmodel.score(X_test, y_test)*100"
   ]
  },
  {
   "cell_type": "code",
   "execution_count": 29,
   "id": "47b3ef11",
   "metadata": {},
   "outputs": [
    {
     "data": {
      "text/plain": [
       "88.36528221512248"
      ]
     },
     "execution_count": 29,
     "metadata": {},
     "output_type": "execute_result"
    }
   ],
   "source": [
    "acc"
   ]
  },
  {
   "cell_type": "code",
   "execution_count": 30,
   "id": "ad5eb08f",
   "metadata": {},
   "outputs": [
    {
     "data": {
      "text/plain": [
       "SVC()"
      ]
     },
     "execution_count": 30,
     "metadata": {},
     "output_type": "execute_result"
    }
   ],
   "source": [
    "from sklearn.svm import SVC\n",
    "svm = SVC()\n",
    "svm.fit(X_test, y_test)"
   ]
  },
  {
   "cell_type": "code",
   "execution_count": 31,
   "id": "f3a65dff",
   "metadata": {},
   "outputs": [],
   "source": [
    "acc1 = svm.score(X_test, y_test)*100"
   ]
  },
  {
   "cell_type": "code",
   "execution_count": 32,
   "id": "d808fc2a",
   "metadata": {},
   "outputs": [
    {
     "data": {
      "text/plain": [
       "88.37859424920129"
      ]
     },
     "execution_count": 32,
     "metadata": {},
     "output_type": "execute_result"
    }
   ],
   "source": [
    "acc1"
   ]
  },
  {
   "cell_type": "code",
   "execution_count": 33,
   "id": "9b61398e",
   "metadata": {},
   "outputs": [
    {
     "name": "stdout",
     "output_type": "stream",
     "text": [
      "2 neighbors KNN Score:  87.11395101171459 %\n"
     ]
    }
   ],
   "source": [
    "from sklearn.neighbors import KNeighborsClassifier\n",
    "knn = KNeighborsClassifier(n_neighbors = 2)  # n_neighbors means k\n",
    "knn.fit(X_train, y_train)\n",
    "# prediction = knn.predict(x_test)\n",
    "\n",
    "y_pred = knn.predict(X_test)\n",
    "\n",
    "acc3 = knn.score(X_test, y_test)*100\n",
    "print(\"2 neighbors KNN Score: \",acc3,\"%\")"
   ]
  },
  {
   "cell_type": "code",
   "execution_count": 34,
   "id": "02c792a6",
   "metadata": {},
   "outputs": [
    {
     "name": "stdout",
     "output_type": "stream",
     "text": [
      "Decision Tree Test Accuracy 82.83 %\n"
     ]
    }
   ],
   "source": [
    "from sklearn.tree import DecisionTreeClassifier\n",
    "dtc = DecisionTreeClassifier()\n",
    "dtc.fit(X_train, y_train)\n",
    "\n",
    "acc4 = dtc.score(X_test, y_test)*100\n",
    "print(\"Decision Tree Test Accuracy\", round(acc4, 2),\"%\")\n"
   ]
  },
  {
   "cell_type": "code",
   "execution_count": null,
   "id": "a4c5d886",
   "metadata": {},
   "outputs": [],
   "source": []
  }
 ],
 "metadata": {
  "kernelspec": {
   "display_name": "Python 3 (ipykernel)",
   "language": "python",
   "name": "python3"
  },
  "language_info": {
   "codemirror_mode": {
    "name": "ipython",
    "version": 3
   },
   "file_extension": ".py",
   "mimetype": "text/x-python",
   "name": "python",
   "nbconvert_exporter": "python",
   "pygments_lexer": "ipython3",
   "version": "3.9.12"
  }
 },
 "nbformat": 4,
 "nbformat_minor": 5
}
